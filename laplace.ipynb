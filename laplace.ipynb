{
 "cells": [
  {
   "cell_type": "code",
   "execution_count": 1,
   "id": "9bebf059",
   "metadata": {},
   "outputs": [],
   "source": [
    "import numpy as np\n",
    "import cv2\n",
    "import matplotlib.pyplot as plt\n"
   ]
  },
  {
   "cell_type": "code",
   "execution_count": 2,
   "id": "3a058ac7",
   "metadata": {},
   "outputs": [
    {
     "name": "stdout",
     "output_type": "stream",
     "text": [
      "4.10.0\n",
      "1.26.4\n"
     ]
    }
   ],
   "source": [
    "print(cv2. __version__)\n",
    "print(np.__version__)"
   ]
  },
  {
   "cell_type": "code",
   "execution_count": 4,
   "id": "895b40ef",
   "metadata": {},
   "outputs": [
    {
     "data": {
      "text/plain": [
       "(1200, 746, 3)"
      ]
     },
     "execution_count": 4,
     "metadata": {},
     "output_type": "execute_result"
    }
   ],
   "source": [
    "img = cv2.imread('Laplace.png', -1)\n",
    "img.shape"
   ]
  },
  {
   "cell_type": "code",
   "execution_count": 41,
   "id": "5b806737",
   "metadata": {},
   "outputs": [],
   "source": [
    "def myconv(image, kernel):\n",
    "    m = kernel.shape[0]\n",
    "    ret = np.zeros(image.shape)\n",
    "    tmp = np.zeros((m+image.shape[0]-1, m+image.shape[1]-1))\n",
    "    for i in range(1, image.shape[0] + 1):\n",
    "        for j in range(1, image.shape[1] + 1):\n",
    "            tmp[i, j] = image[i-1, j-1]\n",
    "    \n",
    "    for i in range(0, image.shape[0]):\n",
    "        for j in range(0, image.shape[1]):\n",
    "            ret[i, j] = np.sum(tmp[i:i+m, j:j+m] * kernel)\n",
    "            ret[i, j] = max(min(255, ret[i, j]), 0)\n",
    "    #ret = np.uint8(ret)\n",
    "    return ret.astype('uint8')"
   ]
  },
  {
   "cell_type": "code",
   "execution_count": null,
   "id": "6aaa5ee0",
   "metadata": {},
   "outputs": [],
   "source": [
    "kernel = np.array([[1, 1, 1],[1, -8, 1],[1, 1, 1]])\n",
    "\n",
    "# lap = cv2.filter2D(src = img.astype(np.float64), ddepth = cv2.CV_64F, kernel = kernel)\n",
    "\n",
    "lap = myconv(img, kernel)\n",
    "\n",
    "plt.subplot(1, 2, 1)\n",
    "plt.title('Original Image')\n",
    "plt.imshow(img, cmap='gray', vmin=0, vmax=255)\n",
    "\n",
    "plt.subplot(1, 2, 2)\n",
    "plt.title('Filtered Image')\n",
    "plt.imshow(lap, cmap='gray', vmin=0, vmax=255)\n"
   ]
  },
  {
   "cell_type": "code",
   "execution_count": null,
   "id": "86947b77",
   "metadata": {},
   "outputs": [],
   "source": [
    "kernel = np.array([[1, 1, 1],[1, -8, 1],[1, 1, 1]])\n",
    "\n",
    "lap = cv2.filter2D(src = img.astype(np.float64), ddepth = cv2.CV_64F, kernel = kernel)\n",
    "\n",
    "plt.subplot(1, 2, 1)\n",
    "plt.title('Original Image')\n",
    "plt.imshow(img, cmap='gray', vmin=0, vmax=255)\n",
    "\n",
    "plt.subplot(1, 2, 2)\n",
    "plt.title('Filtered Image')\n",
    "plt.imshow(lap, cmap='gray', vmin=0, vmax=255)\n"
   ]
  }
 ],
 "metadata": {
  "kernelspec": {
   "display_name": "Python 3 (ipykernel)",
   "language": "python",
   "name": "python3"
  },
  "language_info": {
   "codemirror_mode": {
    "name": "ipython",
    "version": 3
   },
   "file_extension": ".py",
   "mimetype": "text/x-python",
   "name": "python",
   "nbconvert_exporter": "python",
   "pygments_lexer": "ipython3",
   "version": "3.12.3"
  }
 },
 "nbformat": 4,
 "nbformat_minor": 5
}
